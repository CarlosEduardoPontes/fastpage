{
  "nbformat": 4,
  "nbformat_minor": 0,
  "metadata": {
    "colab": {
      "name": "Automacao-15-04-2022.ipynb",
      "provenance": [],
      "collapsed_sections": [],
      "authorship_tag": "ABX9TyNolA37xz4MrSYGarqO9Kiu"
    },
    "kernelspec": {
      "name": "python3",
      "display_name": "Python 3"
    },
    "language_info": {
      "name": "python"
    }
  },
  "cells": [
    {
      "cell_type": "code",
      "execution_count": null,
      "metadata": {
        "id": "uKr_AYs6sH8z"
      },
      "outputs": [],
      "source": [
        "!pip install pyautogui\n",
        "!pip install pyperclip"
      ]
    },
    {
      "cell_type": "code",
      "source": [
        "import pyautogui\n",
        "import pyperclip\n",
        "import time\n",
        "\n",
        "#Delay para iniciar o processo\n",
        "pyautogui.PAUSE = 2\n",
        "\n",
        "#Inicio da Automação\n",
        "pyautogui.press(\"win\")\n",
        "pyautogui.write(\"edge\")\n",
        "pyautogui.press(\"enter\")\n",
        "\n",
        "#Acessa o google drive ou um sistema \n",
        "pyperclip.copy(\"https://docs.google.com/spreadsheets/d/1MBdiXVFBAWHnpYfVZmR4yuEPb_1M77BmTTqtuoYlCiA/edit?resourcekey=0-xVMksOgVXG8IAwA_vuxSTg#gid=653912415\")\n",
        "pyautogui.hotkey(\"ctrl\",\"v\")\n",
        "pyautogui.press(\"enter\")\n",
        "\n",
        "#Aguarda carregar o sistema\n",
        "time.sleep(5)\n",
        "\n",
        "#inicia o processo de Download\n",
        "pyautogui.click(x=106, y=119)\n",
        "pyautogui.click(x=184, y=366)\n",
        "pyautogui.click(x=436, y=371)\n",
        "\n",
        "#esperar o download acabar, quanto maior o arquivo, maior o tempo de espera\n",
        "time.sleep(4)"
      ],
      "metadata": {
        "id": "YP9hzGJYsSHM"
      },
      "execution_count": null,
      "outputs": []
    },
    {
      "cell_type": "code",
      "source": [
        "import pandas as pd\n",
        "\n",
        "#abrir o arquivo que foi feito o download e tratar os dados\n",
        "tabela = pd.read_excel(r'C:\\Users\\cedua\\Downloads\\Cópia de Exercício aula banco de dados.xlsx')\n",
        "display(tabela)\n",
        "\n",
        "TotalVendido = tabela[\"unidades vendidas\"].sum()\n",
        "TotalSabores = tabela[\"sabores\"].unique() \n",
        "display(TotalVendido)\n",
        "display(TotalSabores)"
      ],
      "metadata": {
        "id": "8N5jeK_Ysb4z"
      },
      "execution_count": null,
      "outputs": []
    },
    {
      "cell_type": "markdown",
      "source": [
        ""
      ],
      "metadata": {
        "id": "OaATrD8ZuMdh"
      }
    },
    {
      "cell_type": "code",
      "source": [
        ""
      ],
      "metadata": {
        "id": "7gYBgiz0uUrJ"
      },
      "execution_count": null,
      "outputs": []
    },
    {
      "cell_type": "code",
      "source": [
        "#Abrir o gmail\n",
        "pyautogui.hotkey(\"ctrl\",\"t\")\n",
        "pyperclip.copy(\"https://mail.google.com/mail/u/0/#inbox\")\n",
        "pyautogui.hotkey(\"ctrl\",\"v\")\n",
        "pyautogui.press(\"enter\")\n",
        "\n",
        "time.sleep(4)\n",
        "\n",
        "#Clicar no botão Escrever do Gmail\n",
        "pyautogui.click(x=102, y=170)\n",
        "\n",
        "#preencher o destinatário que vai receber o relatório \n",
        "pyautogui.write('ceduardo.pontes@hotmail.com')\n",
        "pyautogui.press('tab') #para selecionar o email\n",
        "pyautogui.press('tab') #Assunto\n",
        "pyautogui.write('Relatório de Vendas xx-xx-xx')\n",
        "pyautogui.press('tab') #Para ir ao compo do e-mail\n",
        "\n",
        "#Escrever o email - ps. f antes do texto vai deixar o texto dinâmico\n",
        "texto = f\"\"\"\n",
        "Prezados, bom dia\n",
        "\n",
        "A quantidade de unidades vendidas no período de xx-xx-xx foi de {TotalVendido} un.\n",
        "Os produtos mais vendidos foram:\n",
        "{TotalSabores}\n",
        "\n",
        "\n",
        "Att,\n",
        "Carlos Eduardo\n",
        "\"\"\"\n",
        "pyperclip.copy(texto) \n",
        "pyautogui.hotkey(\"ctrl\",\"v\")\n",
        "\n",
        "pyautogui.click(x=843, y=686)"
      ],
      "metadata": {
        "id": "zrPSegz3sgCr"
      },
      "execution_count": null,
      "outputs": []
    },
    {
      "cell_type": "code",
      "source": [
        "#para descobrir as posições dos cliques\n",
        "time.sleep(5)\n",
        "pyautogui.position()\n",
        "#Procura o local onde deseja saber os ponto x e y e da um clique. Retorne aqui e veja os pontos!"
      ],
      "metadata": {
        "id": "jgW5SGY_snkX"
      },
      "execution_count": null,
      "outputs": []
    }
  ]
}